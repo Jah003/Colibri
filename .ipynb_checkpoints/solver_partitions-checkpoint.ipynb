{
 "cells": [
  {
   "cell_type": "code",
   "execution_count": 114,
   "metadata": {},
   "outputs": [],
   "source": [
    "import numpy as np\n",
    "import scipy as sp\n",
    "import cvxpy as cp\n",
    "import tqdm\n",
    "import tqdm.notebook\n",
    "import itertools\n",
    "np.set_printoptions(precision=3, linewidth=180)"
   ]
  },
  {
   "cell_type": "code",
   "execution_count": 123,
   "metadata": {},
   "outputs": [],
   "source": [
    "m = 5 # Dim d'arrivée\n",
    "n = 2 # Dim de départ \n",
    "nbiter = 10 # Nombre d'essais\n",
    "n_part = 3"
   ]
  },
  {
   "cell_type": "code",
   "execution_count": 124,
   "metadata": {},
   "outputs": [
    {
     "name": "stdout",
     "output_type": "stream",
     "text": [
      "[ 0.711  0.882  1.355  0.815 -1.826  0.711  0.882  1.355  0.815 -1.826]\n",
      "[ 1.169  1.237  2.861  1.261 -1.631  0.173 -0.515 -0.684 -1.036 -2.675]\n",
      "[ 0.173 -0.515 -0.684 -1.036 -2.675] <= x <= [ 1.169  1.237  2.861  1.261 -1.631]\n"
     ]
    }
   ],
   "source": [
    "A = np.random.randn(n,m) # A est connu\n",
    "x = np.random.randn(m)\n",
    "b_bar = A @ x # b barre\n",
    "C = np.random.randn(n,m)\n",
    "d = C @ x\n",
    "G = np.concatenate((np.eye(m), -np.eye(m)))\n",
    "mult = np.concatenate((np.eye(m), np.eye(m)))\n",
    "l = np.random.randn(m) #On crée des vecteurs que l'on va ajouter au x de bases pour créer un intervalle h \n",
    "u = np.random.randn(m)\n",
    "\n",
    "for i in range (0,m):\n",
    "    if (l[i]>0):       #On s arrange pour que les l soit negatif pour que lorsque l'on va add, \n",
    "        l[i]=-l[i]     #les m dernieres valeurs de h soir <x (borne inférieure)\n",
    "        \n",
    "    if (u[i]<0):       #On s arrange pour que les l soit positif pour que lorsque l'on va add,\n",
    "        u[i]=-u[i]     #les m premières valeurs de h soir >x (borne supérieure)\n",
    "\n",
    "add=np.concatenate((u,l)) #On crée le add en concaténant u et l \n",
    "\n",
    "h = mult @ x #On crée un h de dimension 2*m qui contient pour le moment 2*les valeurs de x \n",
    "print(h)\n",
    "h = h + add #On ajoute ensuite add pour créer l'intervalle souhaité\n",
    "print(h)\n",
    "print(\"{} <= x <= {}\".format(h[m:],h[:m])) #On vérifie que les intervalles sont bons \n",
    "\n",
    "for i in range (0,m):\n",
    "    h[m+i]=-h[m+i] #On inverse les signes de lh en prevision du changement de signe dans le solver"
   ]
  },
  {
   "cell_type": "code",
   "execution_count": 125,
   "metadata": {},
   "outputs": [],
   "source": [
    "vb = np.array([0.1, 0.05])**2 # vecteur des variances de chaque terme du vecteur b\n",
    "Cb = np.diag(vb) # matrice de covariance de b\n",
    "bs = b_bar[:, None] + np.sqrt(vb)[:, None] * np.random.randn(n, nbiter)"
   ]
  },
  {
   "cell_type": "code",
   "execution_count": 126,
   "metadata": {},
   "outputs": [],
   "source": [
    "def create(lh,u,n):\n",
    "#Ici on coupe chaque intervalles en n intervalles,\n",
    "#ce qui nous serviva ensuite à créer nos partitions dans creation_partitions*\n",
    "#Petite précision il faut bien faire la différence entre l et lh :\n",
    "# l est le l final , celui que l'on a quand on print l < x < u , la vraie borne inférieure\n",
    "# lh est le l qui est stocke dans h en attendant le changement de signe qui sera effectué pendant le solve \n",
    "#DONC lh=-l !!!!!! \n",
    "    \n",
    "    l=-lh\n",
    "    parts = []\n",
    "    for i in range(n):\n",
    "    #Ici on utilise l pour calculer les bornes 'intermediaires', \n",
    "    #par contre on change le signe de l[i] pour qu'il devienne lh[i]\n",
    "    \n",
    "        if i == 0:\n",
    "            li = lh\n",
    "            ui = (l + u) / n\n",
    "        elif i == n - 1:\n",
    "            li = -(i * (l + u)) / n #On change le signe \n",
    "            ui = u\n",
    "        else:\n",
    "            li = -(i * (l+u)) / n #On change le signe\n",
    "            ui = ((i + 1) * (l+u)) / n\n",
    "\n",
    "        parts.append((li, ui)) #On stocke chaque \"bebes\" intervalles dans parts que l'on retourne\n",
    "    return parts\n"
   ]
  },
  {
   "cell_type": "code",
   "execution_count": 127,
   "metadata": {},
   "outputs": [],
   "source": [
    "def creation_partitions(ls, us, npart, dim):\n",
    "#Cette fonction va nous servir à créer nos différentes partitions composées de m \"bebés\" intervalles,\n",
    "#Pour créer toutes les partitions, on crée toutes les combinaisons possibles de \"bébés\" intervalles \n",
    "    \n",
    "    assert(dim == len(ls) == len(us))\n",
    "\n",
    "    possible_couples = []\n",
    "\n",
    "    for m in range(dim):\n",
    "        possible_couples.append([(li,ui) for li,ui in create(ls[m],us[m],npart)])\n",
    "\n",
    "    ls_us = itertools.product(*possible_couples) #On produit les différentes combinaisons et on les retourne \n",
    "    \n",
    "    return [list(map(list, zip(*x))) for x in ls_us]"
   ]
  },
  {
   "cell_type": "code",
   "execution_count": 128,
   "metadata": {},
   "outputs": [],
   "source": [
    "def partition(m,A,b,C,d,mult,h,n_part,affichage=True,affichage_no_sol=True):\n",
    "#Cette fonction est la fonction principale qui va résoudre le système pour chaque b et chaque partitions\n",
    "\n",
    "    u=np.array(h[:m])\n",
    "    lh=np.array(h[-m:])\n",
    "    min_global=[]\n",
    "    hp=[]\n",
    "    \n",
    "    if (affichage == True): #On affiche les différentes partitions si on veut\n",
    "        \n",
    "        for li,ui in creation_partitions(lh,u,n_part,m):\n",
    "            li=np.array(li)\n",
    "            ui=np.array(ui)\n",
    "            print(\"l={},u={}\".format(-li,ui))\n",
    "            \n",
    "    for bi in tqdm.notebook.tqdm(b.T):\n",
    "        \n",
    "        min_local=[]\n",
    "        \n",
    "        for li,ui in creation_partitions(lh,u,n_part,m):\n",
    "            \n",
    "            li=np.array(li)\n",
    "            ui=np.array(ui)\n",
    "            \n",
    "            hp=np.hstack([ui,li])\n",
    "            xe = cp.Variable(m)\n",
    "            obj = cp.Minimize(cp.sum_squares( (A @ xe) - bi) )\n",
    "            cstr = [(C @ xe) == d, G @ xe <= hp] \n",
    "            prob = cp.Problem(obj,cstr)\n",
    "            \n",
    "            try : \n",
    "                prob.solve()\n",
    "            except Exception as e : \n",
    "                print(e)\n",
    "                \n",
    "            if xe.value is None: #Pour éviter une erreur dans les calculs pck le solver renvoie None s'il n'y a pas de solutions\n",
    "                                 #on ne stocke pas le None dans min_local et on passe à la partition suivante\n",
    "                if (affichage_no_sol == True) :\n",
    "                    print(\"Pas de solution :( pour {} <= x <= {}\".format(-li,ui))\n",
    "                continue\n",
    "            min_local.append((xe.value, np.linalg.norm( (A @ xe.value) - bi)**2 )) #On stocke toutes les solutions pour chaque\n",
    "                                                                                   #partitions\n",
    "        \n",
    "        min_global.append( min(min_local, key=lambda couple: couple[1]) ) #On prend la solution dont la norme de A@xsol-b^2 est\n",
    "                                                                          #la plus petite \n",
    "    print(\"Dcp ? {}\".format(prob.is_dcp())) #On verifie si le programme est bien un DCP \n",
    "    \n",
    "    \n",
    "    return [a[0] for a in min_global]"
   ]
  },
  {
   "cell_type": "code",
   "execution_count": 129,
   "metadata": {},
   "outputs": [],
   "source": [
    "def resolution_base(A,b,C,d,G,h): # Cette fonction resout le probleme sans utiliser la partition\n",
    "    \n",
    "    xes= []\n",
    "    \n",
    "    for b in tqdm.notebook.tqdm(bs.T):\n",
    "   \n",
    "        # definition du problème\n",
    "        xe = cp.Variable(m)\n",
    "\n",
    "        objective = cp.Minimize(cp.sum_squares((A @ xe) - b))\n",
    "        constraints = [(C @ xe) == d, G @ xe <= h]\n",
    "        prob = cp.Problem(objective, constraints)\n",
    "        # resolution\n",
    "        try : \n",
    "            prob.solve()\n",
    "        except Exception as e : \n",
    "            print(e)\n",
    "        if xe.value is None:\n",
    "            continue\n",
    "        xes.append(xe.value)\n",
    "    print(\"Dcp ? {}\".format(prob.is_dcp()))\n",
    "    return xes"
   ]
  },
  {
   "cell_type": "code",
   "execution_count": 130,
   "metadata": {
    "scrolled": true
   },
   "outputs": [
    {
     "data": {
      "application/vnd.jupyter.widget-view+json": {
       "model_id": "cfbf1e3809bb4cd2a2c40bb9a43e08cf",
       "version_major": 2,
       "version_minor": 0
      },
      "text/plain": [
       "HBox(children=(FloatProgress(value=0.0, max=10.0), HTML(value='')))"
      ]
     },
     "metadata": {},
     "output_type": "display_data"
    },
    {
     "name": "stdout",
     "output_type": "stream",
     "text": [
      "\n",
      "Dcp ? True\n"
     ]
    },
    {
     "data": {
      "application/vnd.jupyter.widget-view+json": {
       "model_id": "64874ea5a0854e32a16fa8ad1ee3e368",
       "version_major": 2,
       "version_minor": 0
      },
      "text/plain": [
       "HBox(children=(FloatProgress(value=0.0, max=10.0), HTML(value='')))"
      ]
     },
     "metadata": {},
     "output_type": "display_data"
    },
    {
     "name": "stdout",
     "output_type": "stream",
     "text": [
      "\n",
      "Dcp ? True\n",
      "Test égalité sans partition : [-1.881  3.666] = [-1.881  3.666]\n",
      "Test inegalité sans partition : [ 0.173 -0.515 -0.684 -1.036 -2.675] <= [ 0.415  0.785  1.467  0.766 -1.846] <= [ 1.169  1.237  2.861  1.261 -1.631]\n",
      "résultat sans partition = [ 0.415  0.785  1.467  0.766 -1.846]\n",
      "x=[ 0.711  0.882  1.355  0.815 -1.826]\n",
      "Matrice de Covariance de x sans partition : [[ 0.    -0.    -0.     0.    -0.   ]\n",
      " [-0.     0.001 -0.    -0.    -0.   ]\n",
      " [-0.    -0.     0.002 -0.     0.002]\n",
      " [ 0.    -0.    -0.     0.    -0.   ]\n",
      " [-0.    -0.     0.002 -0.     0.002]]\n",
      "\n",
      "Test égalité avec partition : [-1.881  3.666] = [-1.881  3.666]\n",
      "Test inegalité avec partition : [ 0.173 -0.515 -0.684 -1.036 -2.675] <= [ 0.496  0.807  1.437  0.782 -1.841] <= [ 1.169  1.237  2.861  1.261 -1.631]\n",
      "\n",
      "résultat avec partition = [ 0.496  0.807  1.437  0.782 -1.841]\n",
      "x=[ 0.711  0.882  1.355  0.815 -1.826]\n",
      "Matrice de Covariance de x avec partition : [[ 6.372e-02  1.635e-02 -2.623e-02  1.438e-02  1.111e-03]\n",
      " [ 1.635e-02  4.872e-03 -7.138e-03  3.368e-03 -1.408e-04]\n",
      " [-2.623e-02 -7.138e-03  1.219e-02 -6.114e-03  1.208e-03]\n",
      " [ 1.438e-02  3.368e-03 -6.114e-03  3.527e-03 -2.517e-05]\n",
      " [ 1.111e-03 -1.408e-04  1.208e-03 -2.517e-05  2.030e-03]]\n"
     ]
    }
   ],
   "source": [
    "xes1 = partition(m,A,bs,C,d,G,h,n_part,False,False) #On fait la moyenne des resultats avec partitions\n",
    "xes1 = np.array(xes1).T\n",
    "x_opt1 = xes1.mean(axis=1)\n",
    "Cx_nap = np.cov(xes1)\n",
    "xes2 = resolution_base(A,bs,C,d,G,h)\n",
    "if not xes2 :\n",
    "    print(\"Pas de solution sans partition\")\n",
    "else :\n",
    "    xes2 = np.array(xes2).T #On fait la moyenne des resultats sans partitions\n",
    "    x_opt2 = xes2.mean(axis=1)\n",
    "    Cx_nsp=np.cov(xes2)\n",
    "    print(\"Test égalité sans partition : {} = {}\".format(C @ x_opt2,d))\n",
    "    print(\"Test inegalité sans partition : {} <= {} <= {}\".format(-h[-m:],x_opt2,h[:m]))\n",
    "    print(\"résultat sans partition = {}\".format(x_opt2))\n",
    "    print(\"x={}\".format(x))\n",
    "    print(\"Matrice de Covariance de x sans partition : {}\".format(Cx_nsp))\n",
    "    print(\"\")\n",
    "\n",
    "print(\"Test égalité avec partition : {} = {}\".format(C @ x_opt1,d))\n",
    "print(\"Test inegalité avec partition : {} <= {} <= {}\".format(-h[-m:],x_opt1,h[:m]))\n",
    "print(\"\")\n",
    "print(\"résultat avec partition = {}\".format(x_opt1))\n",
    "print(\"x={}\".format(x))\n",
    "print(\"Matrice de Covariance de x avec partition : {}\".format(Cx_nap))"
   ]
  },
  {
   "cell_type": "code",
   "execution_count": 75,
   "metadata": {},
   "outputs": [
    {
     "name": "stdout",
     "output_type": "stream",
     "text": [
      "[[ 0.    -0.     0.   ]\n",
      " [-0.     0.001 -0.001]\n",
      " [ 0.    -0.001  0.001]]\n"
     ]
    }
   ],
   "source": [
    "\n",
    "print(Cx_n)"
   ]
  },
  {
   "cell_type": "code",
   "execution_count": null,
   "metadata": {},
   "outputs": [],
   "source": []
  }
 ],
 "metadata": {
  "kernelspec": {
   "display_name": "Python 3",
   "language": "python",
   "name": "python3"
  },
  "language_info": {
   "codemirror_mode": {
    "name": "ipython",
    "version": 3
   },
   "file_extension": ".py",
   "mimetype": "text/x-python",
   "name": "python",
   "nbconvert_exporter": "python",
   "pygments_lexer": "ipython3",
   "version": "3.8.2"
  }
 },
 "nbformat": 4,
 "nbformat_minor": 2
}
